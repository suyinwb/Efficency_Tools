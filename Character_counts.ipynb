{
 "cells": [
  {
   "cell_type": "code",
   "execution_count": 12,
   "id": "b996969a-c223-4507-8488-1f3f1a6279fe",
   "metadata": {},
   "outputs": [],
   "source": [
    "from collections import Counter"
   ]
  },
  {
   "cell_type": "code",
   "execution_count": 15,
   "id": "6d493214-41f9-472f-8a47-3a059cfeba04",
   "metadata": {},
   "outputs": [
    {
     "name": "stdin",
     "output_type": "stream",
     "text": [
      "Enter a string:  H,ODSHYBRID,20180228230348\n"
     ]
    }
   ],
   "source": [
    "text = input(\"Enter a string: \")"
   ]
  },
  {
   "cell_type": "code",
   "execution_count": 16,
   "id": "70ad0131-f1d1-4ad4-99c7-62d7c166c37a",
   "metadata": {},
   "outputs": [
    {
     "name": "stdout",
     "output_type": "stream",
     "text": [
      "Total characters (including spaces): 26\n",
      "Total characters (excluding spaces): 26\n"
     ]
    }
   ],
   "source": [
    "total_chars = len(text)\n",
    "chars_without_spaces = len(text.replace(\" \", \"\"))\n",
    "print(f\"Total characters (including spaces): {total_chars}\")\n",
    "print(f\"Total characters (excluding spaces): {chars_without_spaces}\")"
   ]
  },
  {
   "cell_type": "code",
   "execution_count": 11,
   "id": "ddf85a79-1a85-42a9-b640-41693c92f3cc",
   "metadata": {},
   "outputs": [
    {
     "name": "stdout",
     "output_type": "stream",
     "text": [
      "Character Frequency:\n",
      "'d': 1\n",
      "'a': 2\n",
      "'f': 1\n"
     ]
    }
   ],
   "source": [
    "# Character count frequency\n",
    "\n",
    "char_frequency = Counter(text)\n",
    "print(\"Character Frequency:\")\n",
    "for char, count in char_frequency.items():\n",
    "    print(f\"'{char}': {count}\")"
   ]
  }
 ],
 "metadata": {
  "kernelspec": {
   "display_name": "PythonData_python4data",
   "language": "python",
   "name": "python4data"
  },
  "language_info": {
   "codemirror_mode": {
    "name": "ipython",
    "version": 3
   },
   "file_extension": ".py",
   "mimetype": "text/x-python",
   "name": "python",
   "nbconvert_exporter": "python",
   "pygments_lexer": "ipython3",
   "version": "3.11.5"
  }
 },
 "nbformat": 4,
 "nbformat_minor": 5
}
