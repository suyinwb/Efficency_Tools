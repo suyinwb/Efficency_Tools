{
 "cells": [
  {
   "cell_type": "code",
   "execution_count": 22,
   "id": "a18b1702-ee99-4fbf-ba7b-37f6858330cb",
   "metadata": {},
   "outputs": [],
   "source": [
    "from pathlib import Path\n",
    "\n",
    "import ffmpeg\n",
    "\n",
    "import os\n",
    "import glob\n",
    "import subprocess"
   ]
  },
  {
   "cell_type": "markdown",
   "id": "fb15db4c-cf71-4968-8037-b77296217daa",
   "metadata": {},
   "source": [
    "# Convert MOV to MP4"
   ]
  },
  {
   "cell_type": "code",
   "execution_count": 27,
   "id": "c95b23c7-b2a5-4e4f-830c-36daa51aa1b0",
   "metadata": {},
   "outputs": [
    {
     "data": {
      "text/plain": [
       "CompletedProcess(args=['ffmpeg', '-i', 'input/Penelope.mov', '-q:v', '0', 'input/Penelope.MP4'], returncode=0)"
      ]
     },
     "execution_count": 27,
     "metadata": {},
     "output_type": "execute_result"
    }
   ],
   "source": [
    "# # Test with one file \n",
    "# mov_input_path = 'input/Penelope.mov'\n",
    "# mp4_output_path = 'input/Penelope.MP4'\n",
    "\n",
    "# import subprocess\n",
    "\n",
    "# # Run the FFmpeg command\n",
    "# subprocess.run(['ffmpeg', '-i', mov_input_path, '-q:v', '0', mp4_output_path])"
   ]
  },
  {
   "cell_type": "code",
   "execution_count": 21,
   "id": "70bbadac-ca64-47f0-a90e-70489374a728",
   "metadata": {},
   "outputs": [
    {
     "name": "stdout",
     "output_type": "stream",
     "text": [
      "Converted input/Penelope.mov to input/Penelope.mp4\n"
     ]
    }
   ],
   "source": [
    "# Define the directory to search\n",
    "search_dir = 'input/'\n",
    "\n",
    "# Recursively find all .mov files\n",
    "mov_files = glob.glob(os.path.join(search_dir, '**', '*.mov'), recursive=True)\n",
    "\n",
    "# Convert each .mov file to .mp4\n",
    "for mov_file in mov_files:\n",
    "    mp4_file = os.path.splitext(mov_file)[0] + '.mp4'\n",
    "    subprocess.run(['ffmpeg', '-i', mov_file, '-q:v', '0', mp4_file])\n",
    "    print(f'Converted {mov_file} to {mp4_file}')"
   ]
  },
  {
   "cell_type": "code",
   "execution_count": null,
   "id": "1f3ac554-a3a5-4170-bbb3-eff307696298",
   "metadata": {},
   "outputs": [],
   "source": []
  },
  {
   "cell_type": "markdown",
   "id": "8d998b3a-60dc-45eb-bd36-c4ea11cad00d",
   "metadata": {},
   "source": [
    "# Remove audio from the video"
   ]
  },
  {
   "cell_type": "code",
   "execution_count": 28,
   "id": "f16ecea1-bdc2-4539-9df1-bcc7a61ff2b0",
   "metadata": {},
   "outputs": [],
   "source": [
    "# input_path = 'input/Penelope.MP4'\n",
    "# a_output_path = 'output/Penelope_Life.MP4'"
   ]
  },
  {
   "cell_type": "code",
   "execution_count": 29,
   "id": "f8d563d8-6a62-4e51-b90d-6c59313e2529",
   "metadata": {},
   "outputs": [
    {
     "data": {
      "text/plain": [
       "(None, None)"
      ]
     },
     "execution_count": 29,
     "metadata": {},
     "output_type": "execute_result"
    }
   ],
   "source": [
    "# # Use ffmpeg to remove the audio\n",
    "# ffmpeg.input(input_path).output(a_output_path, codec='copy', an=None).run()"
   ]
  },
  {
   "cell_type": "code",
   "execution_count": null,
   "id": "60625a15-cb8a-4231-afd6-74940045066a",
   "metadata": {},
   "outputs": [],
   "source": [
    "# Define the directory to search\n",
    "search_dir = 'input/'\n",
    "\n",
    "# Recursively find all .mov files\n",
    "mov_files = glob.glob(os.path.join(search_dir, '**', '*.MP4'), recursive=True)\n",
    "\n",
    "# Convert each .mp4 to no audio\n",
    "for mov_file in mov_files:\n",
    "    mp4_file = os.path.splitext(mov_file)[0] + '.mp4'\n",
    "    ffmpeg.input(mov_files).output(output_file, codec='copy', an=None).run()\n",
    "    print(f'Converted {mov_file} to {mp4_file}')"
   ]
  },
  {
   "cell_type": "code",
   "execution_count": 37,
   "id": "dd903e0b-9681-4b6a-ba1b-518daf90a040",
   "metadata": {},
   "outputs": [
    {
     "name": "stdout",
     "output_type": "stream",
     "text": [
      "Converted input/1716151827.MP4 to silent\n",
      "Converted input/Penelope.mp4 to silent\n",
      "Converted input/1716151665.MP4 to silent\n",
      "Converted input/1716151810.MP4 to silent\n"
     ]
    }
   ],
   "source": [
    "# Define the input and output directories\n",
    "input_dir = 'input/'\n",
    "output_dir = 'output'\n",
    "\n",
    "# Function to recursively find all .mp4 files\n",
    "def find_mp4_files(directory):\n",
    "    mp4_files = []\n",
    "    for root, dirs, files in os.walk(directory):\n",
    "        for file in files:\n",
    "            if file.lower().endswith(\".mp4\"):\n",
    "                mp4_files.append(os.path.join(root, file))\n",
    "    return mp4_files\n",
    "\n",
    "# Function to convert .mp4 to .mp4 with no audio\n",
    "def convert_mp4_to_silent_mp4(input_file, output_directory):\n",
    "    relative_path = os.path.relpath(input_file, input_dir)\n",
    "    output_file = os.path.join(output_directory, relative_path)\n",
    "    Path(os.path.dirname(output_file)).mkdir(parents=True, exist_ok=True)\n",
    "    output_file = os.path.splitext(output_file)[0] + '_noaudio.mp4'\n",
    "    ffmpeg.input(input_file).output(output_file, codec='copy', an=None).run()\n",
    "\n",
    "# Find all .mp4 files recursively\n",
    "mp4_files = find_mp4_files(input_dir)\n",
    "\n",
    "# Convert each .mp4 file to .mp4 with no audio\n",
    "for mp4_file in mp4_files:\n",
    "    convert_mp4_to_silent_mp4(mp4_file, output_dir)\n",
    "    print(f'Converted {mp4_file} to silent')"
   ]
  },
  {
   "cell_type": "code",
   "execution_count": null,
   "id": "12e95536-4ca8-4921-986c-14f83c0dc072",
   "metadata": {},
   "outputs": [],
   "source": []
  },
  {
   "cell_type": "code",
   "execution_count": null,
   "id": "26518919-01f7-406f-9678-2fa41f258448",
   "metadata": {},
   "outputs": [],
   "source": []
  }
 ],
 "metadata": {
  "kernelspec": {
   "display_name": "PythonData",
   "language": "python",
   "name": "pythondata"
  },
  "language_info": {
   "codemirror_mode": {
    "name": "ipython",
    "version": 3
   },
   "file_extension": ".py",
   "mimetype": "text/x-python",
   "name": "python",
   "nbconvert_exporter": "python",
   "pygments_lexer": "ipython3",
   "version": "3.6.10"
  }
 },
 "nbformat": 4,
 "nbformat_minor": 5
}
