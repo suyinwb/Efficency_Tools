{
 "cells": [
  {
   "cell_type": "code",
   "execution_count": 20,
   "id": "a18b1702-ee99-4fbf-ba7b-37f6858330cb",
   "metadata": {},
   "outputs": [],
   "source": [
    "from pathlib import Path\n",
    "\n",
    "import ffmpeg\n",
    "\n",
    "import os\n",
    "import glob\n",
    "import subprocess"
   ]
  },
  {
   "cell_type": "markdown",
   "id": "fb15db4c-cf71-4968-8037-b77296217daa",
   "metadata": {},
   "source": [
    "# Convert MOV to MP4"
   ]
  },
  {
   "cell_type": "code",
   "execution_count": 21,
   "id": "c95b23c7-b2a5-4e4f-830c-36daa51aa1b0",
   "metadata": {},
   "outputs": [],
   "source": [
    "# # Test with one file \n",
    "# mov_input_path = 'input/Penelope.mov'\n",
    "# mp4_output_path = 'input/Penelope.MP4'\n",
    "\n",
    "# import subprocess\n",
    "\n",
    "# # Run the FFmpeg command\n",
    "# subprocess.run(['ffmpeg', '-i', mov_input_path, '-q:v', '0', mp4_output_path])"
   ]
  },
  {
   "cell_type": "code",
   "execution_count": 23,
   "id": "70bbadac-ca64-47f0-a90e-70489374a728",
   "metadata": {},
   "outputs": [
    {
     "name": "stdout",
     "output_type": "stream",
     "text": [
      "Converted input/Singtel_Lockers.mov to input/Singtel_Lockers.mp4\n"
     ]
    }
   ],
   "source": [
    "# Define the directory to search\n",
    "search_dir = 'input/'\n",
    "\n",
    "# Recursively find all .mov files\n",
    "mov_files = glob.glob(os.path.join(search_dir, '**', '*.mov'), recursive=True) + \\\n",
    "            glob.glob(os.path.join(search_dir, '**', '*.MOV'), recursive=True)\n",
    "\n",
    "# Convert each .mov file to .mp4\n",
    "for mov_file in mov_files:\n",
    "    mp4_file = os.path.splitext(mov_file)[0] + '.mp4'\n",
    "    subprocess.run(['ffmpeg', '-i', mov_file, '-q:v', '0', mp4_file])\n",
    "    print(f'Converted {mov_file} to {mp4_file}')"
   ]
  },
  {
   "cell_type": "code",
   "execution_count": null,
   "id": "46a69ff1-3822-4644-b3b7-76ed1490db30",
   "metadata": {},
   "outputs": [],
   "source": []
  },
  {
   "cell_type": "markdown",
   "id": "3e780042-9793-410d-8eca-97fc26cd45bc",
   "metadata": {},
   "source": [
    "# Crop 1920x 1080 Videos to 1080x1080"
   ]
  },
  {
   "cell_type": "code",
   "execution_count": null,
   "id": "7a4291ec-557a-4810-b83f-0ee404bf1843",
   "metadata": {},
   "outputs": [],
   "source": [
    "# Define the input and output directories\n",
    "input_dir = 'input'\n",
    "output_dir = 'input'\n",
    "\n",
    "# Ensure the output directory exists\n",
    "os.makedirs(output_dir, exist_ok=True)\n",
    "\n",
    "# Find all MP4 files in the input directory\n",
    "for filename in os.listdir(input_dir):\n",
    "    if filename.endswith('.MP4') or filename.endswith('.mp4'):\n",
    "        input_file = os.path.join(input_dir, filename)\n",
    "        output_file = os.path.join(output_dir, f\"{os.path.splitext(filename)[0]}_square.mp4\")\n",
    "        \n",
    "        # Define the ffmpeg crop command\n",
    "        ffmpeg_command = [\n",
    "            'ffmpeg',\n",
    "            '-i', input_file,\n",
    "            '-vf', 'crop=1080:1080:420:420',\n",
    "            output_file\n",
    "        ]\n",
    "        print(f'Cropped {input_file} to 1:1 aspect ratio')\n",
    "        \n",
    "        # Run the ffmpeg command\n",
    "        subprocess.run(ffmpeg_command, check=True)"
   ]
  },
  {
   "cell_type": "code",
   "execution_count": null,
   "id": "7c54e37e-8f59-4790-b7e5-b32e80552d45",
   "metadata": {},
   "outputs": [],
   "source": []
  },
  {
   "cell_type": "markdown",
   "id": "8d998b3a-60dc-45eb-bd36-c4ea11cad00d",
   "metadata": {},
   "source": [
    "# Remove audio from the video"
   ]
  },
  {
   "cell_type": "code",
   "execution_count": null,
   "id": "f16ecea1-bdc2-4539-9df1-bcc7a61ff2b0",
   "metadata": {},
   "outputs": [],
   "source": [
    "# input_path = 'input/Penelope.MP4'\n",
    "# a_output_path = 'output/Penelope_Life.MP4'"
   ]
  },
  {
   "cell_type": "code",
   "execution_count": null,
   "id": "f8d563d8-6a62-4e51-b90d-6c59313e2529",
   "metadata": {},
   "outputs": [],
   "source": [
    "# # Use ffmpeg to remove the audio\n",
    "# ffmpeg.input(input_path).output(a_output_path, codec='copy', an=None).run()"
   ]
  },
  {
   "cell_type": "code",
   "execution_count": 24,
   "id": "dd903e0b-9681-4b6a-ba1b-518daf90a040",
   "metadata": {},
   "outputs": [
    {
     "name": "stdout",
     "output_type": "stream",
     "text": [
      "Converted input/Singtel_Lockers.mp4 to silent\n"
     ]
    }
   ],
   "source": [
    "# Define the input and output directories\n",
    "input_dir = 'input/'\n",
    "output_dir = 'output/'\n",
    "\n",
    "# Function to recursively find all .mp4 files\n",
    "def find_mp4_files(directory):\n",
    "    mp4_files = []\n",
    "    for root, dirs, files in os.walk(directory):\n",
    "        for file in files:\n",
    "            if file.lower().endswith(\".mp4\"):\n",
    "                mp4_files.append(os.path.join(root, file))\n",
    "    return mp4_files\n",
    "\n",
    "# Function to convert .mp4 to .mp4 with no audio\n",
    "def convert_mp4_to_silent_mp4(input_file, output_directory):\n",
    "    relative_path = os.path.relpath(input_file, input_dir)\n",
    "    output_file = os.path.join(output_directory, relative_path)\n",
    "    Path(os.path.dirname(output_file)).mkdir(parents=True, exist_ok=True)\n",
    "    output_file = os.path.splitext(output_file)[0] + '_noaudio.mp4'\n",
    "    ffmpeg.input(input_file).output(output_file, codec='copy', an=None).run()\n",
    "\n",
    "# Find all .mp4 files recursively\n",
    "mp4_files = find_mp4_files(input_dir)\n",
    "\n",
    "# Convert each .mp4 file to .mp4 with no audio\n",
    "for mp4_file in mp4_files:\n",
    "    convert_mp4_to_silent_mp4(mp4_file, output_dir)\n",
    "    print(f'Converted {mp4_file} to silent')"
   ]
  },
  {
   "cell_type": "code",
   "execution_count": null,
   "id": "12e95536-4ca8-4921-986c-14f83c0dc072",
   "metadata": {},
   "outputs": [],
   "source": []
  },
  {
   "cell_type": "markdown",
   "id": "847188ad-7d75-4f2b-907c-3106a206835a",
   "metadata": {},
   "source": [
    "# Make the speed of video to 4x"
   ]
  },
  {
   "cell_type": "code",
   "execution_count": 28,
   "id": "a2893bb6-11c6-4d03-8699-1b340211cae6",
   "metadata": {},
   "outputs": [],
   "source": [
    "def speed_up_video(input_file, output_file, speed_factor):\n",
    "    # Construct the ffmpeg command\n",
    "    command = [\n",
    "        'ffmpeg',\n",
    "        '-i', input_file,           # Input file\n",
    "        '-filter:v', f'setpts={1/speed_factor}*PTS',  # Speed up video\n",
    "        '-filter:a', f'atempo={speed_factor}',  # Speed up audio\n",
    "        output_file                 # Output file\n",
    "    ]\n",
    "\n",
    "    # Execute the command\n",
    "    subprocess.run(command, check=True)"
   ]
  },
  {
   "cell_type": "code",
   "execution_count": null,
   "id": "03809e97-25d9-4e5b-854e-a98f637c1121",
   "metadata": {},
   "outputs": [],
   "source": []
  },
  {
   "cell_type": "code",
   "execution_count": 29,
   "id": "1bcfe3f4-b9ae-47f4-ad14-7347dc8937bc",
   "metadata": {},
   "outputs": [],
   "source": [
    "# def speed_4x():\n",
    "#     # Path to the directory containing videos\n",
    "#     video_directory = 'input/'\n",
    "    \n",
    "#     # Get all video files in the directory\n",
    "#     video_files = glob.glob(os.path.join(video_directory, '*.mp4'))  # Adjust the extension if needed\n",
    "\n",
    "#     # Speed factor\n",
    "#     speed_factor = 2\n",
    "\n",
    "#     # Process each video file\n",
    "#     for video_file in video_files:\n",
    "#         # Define output file path\n",
    "#         output_file = os.path.join(video_directory, f'speed_up_{speed_factor}x_{os.path.basename(video_file)}')\n",
    "        \n",
    "#         # Speed up the video\n",
    "#         speed_up_video(video_file, output_file, speed_factor)\n",
    "#         print(f'Successfully processed: {video_file}')"
   ]
  },
  {
   "cell_type": "code",
   "execution_count": 31,
   "id": "a034f582-dca2-4bbd-a959-63bb9a0ea4f9",
   "metadata": {},
   "outputs": [],
   "source": [
    "# import os\n",
    "\n",
    "# def speed_up_video(input_path, output_path, speed_factor):\n",
    "#     command = f'ffmpeg -i \"{input_path}\" -filter:v \"setpts={1/speed_factor}*PTS\" -an \"{output_path}\"'\n",
    "#     os.system(command)\n",
    "#     print(f\"Processed: {output_path}\")"
   ]
  },
  {
   "cell_type": "code",
   "execution_count": 36,
   "id": "8142593d-2a5b-4161-b86c-a5c8b9c217be",
   "metadata": {},
   "outputs": [],
   "source": [
    "def speed_2x():\n",
    "    video_directory = 'input/'  # Folder containing videos\n",
    "    output_directory = 'output/'  # Folder to save processed videos\n",
    "    os.makedirs(output_directory, exist_ok=True)  # Create if it doesn't exist\n",
    "\n",
    "    speed_factor = 2  # Speed up by 4x\n",
    "    video_files = glob.glob(os.path.join(video_directory, '*.mp4'))  # Get all .mp4 files\n",
    "\n",
    "    for video_file in video_files:\n",
    "        output_file = os.path.join(output_directory, f'speed_up_{speed_factor}x_{os.path.basename(video_file)}')\n",
    "        speed_up_video(video_file, output_file, speed_factor)"
   ]
  },
  {
   "cell_type": "code",
   "execution_count": null,
   "id": "38850133-f54a-4198-9594-bce04e3d9d33",
   "metadata": {},
   "outputs": [],
   "source": [
    "speed_2x()"
   ]
  },
  {
   "cell_type": "code",
   "execution_count": null,
   "id": "2be44f54-f5d3-46c0-8b81-d726026ba360",
   "metadata": {},
   "outputs": [],
   "source": []
  },
  {
   "cell_type": "markdown",
   "id": "a5c92373-b843-42dd-8967-8ed7b216a26d",
   "metadata": {},
   "source": [
    "# Extract ONLY audio as wav from the video"
   ]
  },
  {
   "cell_type": "code",
   "execution_count": null,
   "id": "8089fc71-0374-4bf4-8ead-1fa2d0829ea7",
   "metadata": {},
   "outputs": [],
   "source": [
    "import os\n",
    "import ffmpeg\n",
    "\n",
    "def find_mp4_files(directory):\n",
    "    \"\"\"Recursively finds all .mp4 files in a given directory.\"\"\"\n",
    "    mp4_files = []\n",
    "    for root, _, files in os.walk(directory):\n",
    "        for file in files:\n",
    "            if file.lower().endswith(\".mp4\"):\n",
    "                mp4_files.append(os.path.join(root, file))\n",
    "    return mp4_files\n",
    "\n",
    "def convert_mp4_to_wav(input_file, output_directory):\n",
    "    \"\"\"Converts an .mp4 file to a .wav file, extracting only the audio.\"\"\"\n",
    "    relative_path = os.path.relpath(input_file, input_dir)\n",
    "    output_file = os.path.join(output_directory, relative_path)\n",
    "    output_file = os.path.splitext(output_file)[0] + '.wav'\n",
    "\n",
    "    try:\n",
    "        os.makedirs(os.path.dirname(output_file), exist_ok=True)\n",
    "        ffmpeg.input(input_file).output(output_file, acodec='pcm_s16le', ar='44100', ac='1').run()\n",
    "        print(f\"Converted {input_file} to WAV: {output_file}\")\n",
    "    except Exception as e:\n",
    "        print(f\"Error processing {input_file}: {str(e)}\")\n",
    "\n",
    "# Define input and output directories\n",
    "input_dir = 'input/'\n",
    "output_dir = 'output'\n",
    "\n",
    "# Find all .mp4 files\n",
    "mp4_files = find_mp4_files(input_dir)\n",
    "\n",
    "# Convert .mp4 files to WAV files\n",
    "for mp4_file in mp4_files:\n",
    "    convert_mp4_to_wav(mp4_file, output_dir)"
   ]
  },
  {
   "cell_type": "code",
   "execution_count": null,
   "id": "154098d4-45d3-4cdb-9d54-852af0c15bc2",
   "metadata": {},
   "outputs": [],
   "source": []
  },
  {
   "cell_type": "code",
   "execution_count": null,
   "id": "dca1d7b9-67fc-4b24-99d4-c756ba0846a9",
   "metadata": {},
   "outputs": [],
   "source": []
  },
  {
   "cell_type": "code",
   "execution_count": null,
   "id": "30a5712a-bb28-495c-932f-490a48425781",
   "metadata": {},
   "outputs": [],
   "source": []
  },
  {
   "cell_type": "code",
   "execution_count": null,
   "id": "9b9fa244-aad6-4943-9130-b7604db9faae",
   "metadata": {},
   "outputs": [],
   "source": []
  },
  {
   "cell_type": "code",
   "execution_count": null,
   "id": "bbd9e980-5fa2-420c-9dd0-57ef7d74eb7e",
   "metadata": {},
   "outputs": [],
   "source": []
  },
  {
   "cell_type": "code",
   "execution_count": null,
   "id": "0bcff7f0-fea5-402b-8401-fc56e47c0183",
   "metadata": {},
   "outputs": [],
   "source": []
  },
  {
   "cell_type": "code",
   "execution_count": null,
   "id": "3ac3c45a-c3da-4843-9fa5-eeeb75a8bcdc",
   "metadata": {},
   "outputs": [],
   "source": []
  }
 ],
 "metadata": {
  "kernelspec": {
   "display_name": "PythonData",
   "language": "python",
   "name": "pythondata"
  },
  "language_info": {
   "codemirror_mode": {
    "name": "ipython",
    "version": 3
   },
   "file_extension": ".py",
   "mimetype": "text/x-python",
   "name": "python",
   "nbconvert_exporter": "python",
   "pygments_lexer": "ipython3",
   "version": "3.6.10"
  }
 },
 "nbformat": 4,
 "nbformat_minor": 5
}
