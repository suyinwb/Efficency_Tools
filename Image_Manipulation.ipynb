{
 "cells": [
  {
   "cell_type": "code",
   "execution_count": null,
   "id": "a18b1702-ee99-4fbf-ba7b-37f6858330cb",
   "metadata": {},
   "outputs": [],
   "source": [
    "from pathlib import Path\n",
    "from PIL import Image\n",
    "from rembg import remove, new_session"
   ]
  },
  {
   "cell_type": "code",
   "execution_count": null,
   "id": "f16ecea1-bdc2-4539-9df1-bcc7a61ff2b0",
   "metadata": {},
   "outputs": [],
   "source": [
    "input_path = 'input/1.JPG'\n",
    "output_path = 'output/1.JPG'"
   ]
  },
  {
   "cell_type": "markdown",
   "id": "824ec750-96f9-4fb5-88b8-76c400cdfef8",
   "metadata": {},
   "source": []
  },
  {
   "cell_type": "markdown",
   "id": "8d998b3a-60dc-45eb-bd36-c4ea11cad00d",
   "metadata": {},
   "source": [
    "# Upscale Image"
   ]
  },
  {
   "cell_type": "code",
   "execution_count": null,
   "id": "1d054a47-14a5-4aca-ae38-f956db86d89c",
   "metadata": {},
   "outputs": [],
   "source": [
    "def upscale_image(input_path, output_path, scale_factor):\n",
    "    # Open the image\n",
    "    image = Image.open(input_path)\n",
    "\n",
    "    # Get the new size by multiplying the original size by the scale factor\n",
    "    width, height = image.size\n",
    "    new_width = int(width * scale_factor)\n",
    "    new_height = int(height * scale_factor)\n",
    "\n",
    "    # Resize the image\n",
    "    upscaled_image = image.resize((new_width, new_height), Image.LANCZOS)\n",
    "\n",
    "    # Save the upscaled image\n",
    "    upscaled_image.save(output_path)\n",
    "\n",
    "    print(\"Image upscaled successfully!\")"
   ]
  },
  {
   "cell_type": "code",
   "execution_count": null,
   "id": "d2bc11ef-de69-4676-85f6-683294247ce5",
   "metadata": {},
   "outputs": [],
   "source": [
    "if __name__ == \"__main__\":\n",
    "    input_path = \"input/1.jpeg\"  # Provide the path to your input image\n",
    "    output_path = \"input/upscaled_image.jpeg\"  # Provide the desired output path\n",
    "    scale_factor = 5  # Set the scale factor, e.g., 2 for doubling the size\n",
    "    upscale_image(input_path, output_path, scale_factor)"
   ]
  },
  {
   "cell_type": "code",
   "execution_count": null,
   "id": "12e95536-4ca8-4921-986c-14f83c0dc072",
   "metadata": {},
   "outputs": [],
   "source": []
  },
  {
   "cell_type": "markdown",
   "id": "497ec06c-a580-4e9b-9808-ff001aa4693f",
   "metadata": {},
   "source": [
    "# Resize Image"
   ]
  },
  {
   "cell_type": "code",
   "execution_count": null,
   "id": "050f83b6-1ffd-4f20-9d8b-a78c07079965",
   "metadata": {},
   "outputs": [],
   "source": [
    "# def resize_image(input_path, output_path, target_ratio=(2, 3)):\n",
    "#     # Open the image\n",
    "#     image = Image.open(input_path)\n",
    "\n",
    "#     # Get original dimensions\n",
    "#     width, height = image.size\n",
    "\n",
    "#     # Calculate the aspect ratio of the original image\n",
    "#     original_aspect_ratio = width / height\n",
    "\n",
    "#     # Calculate the target aspect ratio\n",
    "#     target_aspect_ratio = target_ratio[0] / target_ratio[1]\n",
    "\n",
    "#     # Determine whether to adjust width or height to match target aspect ratio\n",
    "#     if original_aspect_ratio < target_aspect_ratio:  # Image is too tall, adjust width\n",
    "#         new_width = int(height * target_aspect_ratio)\n",
    "#         new_height = height\n",
    "#     else:  # Image is too wide or already at target aspect ratio, adjust height\n",
    "#         new_width = width\n",
    "#         new_height = int(width / target_aspect_ratio)\n",
    "\n",
    "#     # Resize the image while keeping the aspect ratio\n",
    "#     resized_image = image.resize((new_width, new_height), Image.LANCZOS)\n",
    "\n",
    "#     # Create a new image with the target aspect ratio\n",
    "#     target_image = Image.new(\"RGB\", (new_width, new_height), color=\"white\")\n",
    "\n",
    "#     # Paste the resized image onto the new image, centered\n",
    "#     target_image.paste(resized_image, ((new_width - width) // 2, (new_height - height) // 2))\n",
    "\n",
    "#     # Save the resized image\n",
    "#     target_image.save(output_path)\n",
    "\n",
    "#     print(\"Image resized successfully!\")"
   ]
  },
  {
   "cell_type": "code",
   "execution_count": null,
   "id": "58b34723-ef5f-4d24-b3a5-c05f4887b4fe",
   "metadata": {},
   "outputs": [],
   "source": [
    "# if __name__ == \"__main__\":\n",
    "#     input_path = \"input/upscaled_image.jpeg\"  # Provide the path to your input image\n",
    "#     output_path = \"input/resized_image.jpg\"  # Provide the desired output path\n",
    "#     target_ratio = (2, 3)  # Set the desired target aspect ratio\n",
    "#     resize_image(input_path, output_path, target_ratio)"
   ]
  },
  {
   "cell_type": "code",
   "execution_count": null,
   "id": "dc823459-c4e2-45e4-b842-7640439d201f",
   "metadata": {},
   "outputs": [],
   "source": []
  },
  {
   "cell_type": "markdown",
   "id": "0be88f18-01ea-441e-a9dd-a67eb7ca07bf",
   "metadata": {},
   "source": [
    "# Remove Background From Original Image"
   ]
  },
  {
   "cell_type": "code",
   "execution_count": null,
   "id": "a010ea44-95c0-4add-93c8-1877d35005cf",
   "metadata": {},
   "outputs": [],
   "source": [
    "#Remove background with alpha matting to remove the line around object\n",
    "\n",
    "#rembg i -a input/upscaled_image.jpeg input/upscaled_image_bgrm.jpeg\n",
    "def remove_background(input_path, output_path):\n",
    "    with open(input_path, \"rb\") as f:\n",
    "        input_image = f.read()\n",
    "\n",
    "    output_image = remove(input_image, alpha_matte=True)\n",
    "\n",
    "    with open(output_path, \"wb\") as f:\n",
    "        f.write(output_image)\n",
    "\n",
    "    print(\"Background removed successfully!\")"
   ]
  },
  {
   "cell_type": "code",
   "execution_count": null,
   "id": "3f3a3a81-6748-4e93-a08e-93135d27a088",
   "metadata": {},
   "outputs": [],
   "source": [
    "if __name__ == \"__main__\":\n",
    "    input_path = \"input/1.jpeg\"  # Provide the path to your input image\n",
    "    output_path = \"output/1.jpeg\"  # Provide the desired output path\n",
    "    remove_background(input_path, output_path)"
   ]
  },
  {
   "cell_type": "code",
   "execution_count": null,
   "id": "6b3d42fc-51ee-4c73-bdb1-1e49bcc4d566",
   "metadata": {},
   "outputs": [],
   "source": [
    "session = new_session()\n",
    "\n",
    "for file in Path('input').glob('upscaled_*.jpeg'):\n",
    "    input_path = str(file)\n",
    "    output_path = str(file.parent / (file.stem + \".out.jpeg\"))\n",
    "\n",
    "    with open(input_path, 'rb') as i:\n",
    "        with open(output_path, 'wb') as o:\n",
    "            input = i.read()\n",
    "            output = remove(input, session=session)\n",
    "            o.write(output)"
   ]
  },
  {
   "cell_type": "code",
   "execution_count": null,
   "id": "8cf0f0fe-12e6-456e-823e-1f11f99db704",
   "metadata": {},
   "outputs": [],
   "source": []
  },
  {
   "cell_type": "markdown",
   "id": "135f8778-c093-44e7-af38-6dca45f9952e",
   "metadata": {},
   "source": [
    "# Convert PDF to PNG"
   ]
  },
  {
   "cell_type": "code",
   "execution_count": 4,
   "id": "26518919-01f7-406f-9678-2fa41f258448",
   "metadata": {},
   "outputs": [],
   "source": [
    "from pdf2image import convert_from_path\n",
    "import os"
   ]
  },
  {
   "cell_type": "code",
   "execution_count": 5,
   "id": "ac6c5f71-24cf-4ccc-bdd3-99f917beb981",
   "metadata": {},
   "outputs": [],
   "source": [
    "# Folder paths\n",
    "pdf_input_folder = './input'  # Folder containing PDF files\n",
    "output_folder = './output'  # Folder to save the output PNG files\n",
    "\n",
    "# Create the output folder if it doesn't exist\n",
    "if not os.path.exists(output_folder):\n",
    "    os.makedirs(output_folder)"
   ]
  },
  {
   "cell_type": "code",
   "execution_count": 6,
   "id": "49f5dc5d-05c6-48ba-b6e5-b86bcc7b1bea",
   "metadata": {},
   "outputs": [
    {
     "name": "stdout",
     "output_type": "stream",
     "text": [
      "Converted SAMPLE Storage Locker Rental Agreement Template.pdf to PNG images.\n"
     ]
    }
   ],
   "source": [
    "# Loop through all files in the input folder\n",
    "for filename in os.listdir(pdf_input_folder):\n",
    "    if filename.endswith(\".pdf\"):\n",
    "        pdf_file_path = os.path.join(pdf_input_folder, filename)\n",
    "        # Convert PDF to images (each page is an image)\n",
    "        images = convert_from_path(pdf_file_path)\n",
    "        \n",
    "        # Save each page of the PDF as a PNG\n",
    "        for i, image in enumerate(images):\n",
    "            # Create an output path for each page (e.g., file_page_1.png, file_page_2.png, etc.)\n",
    "            image_output_path = os.path.join(output_folder, f'{os.path.splitext(filename)[0]}_page_{i + 1}.png')\n",
    "            # Save without using PIL\n",
    "            image.save(image_output_path)  # pdf2image handles the saving internally without PIL\n",
    "\n",
    "        print(f'Converted {filename} to PNG images.')"
   ]
  },
  {
   "cell_type": "code",
   "execution_count": null,
   "id": "49c6aa88-189d-46e6-8509-9d2c5bf6feb4",
   "metadata": {},
   "outputs": [],
   "source": []
  }
 ],
 "metadata": {
  "kernelspec": {
   "display_name": "PythonData_python4data",
   "language": "python",
   "name": "python4data"
  },
  "language_info": {
   "codemirror_mode": {
    "name": "ipython",
    "version": 3
   },
   "file_extension": ".py",
   "mimetype": "text/x-python",
   "name": "python",
   "nbconvert_exporter": "python",
   "pygments_lexer": "ipython3",
   "version": "3.11.5"
  }
 },
 "nbformat": 4,
 "nbformat_minor": 5
}
