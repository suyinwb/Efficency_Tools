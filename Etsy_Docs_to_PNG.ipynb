{
 "cells": [
  {
   "cell_type": "code",
   "execution_count": 5,
   "id": "a18b1702-ee99-4fbf-ba7b-37f6858330cb",
   "metadata": {},
   "outputs": [],
   "source": [
    "from pathlib import Path\n",
    "from PIL import Image\n",
    "from rembg import remove, new_session"
   ]
  },
  {
   "cell_type": "code",
   "execution_count": null,
   "id": "f16ecea1-bdc2-4539-9df1-bcc7a61ff2b0",
   "metadata": {},
   "outputs": [],
   "source": [
    "# input_path = 'input/1.JPG'\n",
    "# output_path = 'output/1.JPG'"
   ]
  },
  {
   "cell_type": "markdown",
   "id": "824ec750-96f9-4fb5-88b8-76c400cdfef8",
   "metadata": {},
   "source": []
  },
  {
   "cell_type": "markdown",
   "id": "02a0d0fe-fc96-40e4-b270-e2d8712d0d92",
   "metadata": {},
   "source": [
    "# Concert MS Docx to PDF"
   ]
  },
  {
   "cell_type": "code",
   "execution_count": 6,
   "id": "32510007-b4af-4f14-b305-37df8b3c7632",
   "metadata": {},
   "outputs": [],
   "source": [
    "# import os\n",
    "# from docx2pdf import convert\n",
    "\n",
    "# # Define the folder path\n",
    "# input_folder = './input' \n",
    "\n",
    "# # Loop through all files in the folder\n",
    "# for file_name in os.listdir(input_folder):\n",
    "#     # Check if the file is a .docx file\n",
    "#     if file_name.endswith('.docx'):\n",
    "#         # Get the full path of the .docx file\n",
    "#         docx_file = os.path.join(input_folder, file_name)\n",
    "#         # Convert .docx to .pdf (output will be in the same folder by default)\n",
    "#         convert(docx_file)\n",
    "#         print(f'Converted {file_name} to PDF')\n",
    "\n",
    "# print(\"Conversion complete!\")"
   ]
  },
  {
   "cell_type": "code",
   "execution_count": 7,
   "id": "3a892c8d-f21e-44f2-8f5d-77a1fb5bcd71",
   "metadata": {},
   "outputs": [
    {
     "name": "stdout",
     "output_type": "stream",
     "text": [
      "convert /Users/vuvie/Documents/UofT - Data Analytics BootCamp/github/Efficency_Tools/input/Prenuptial Agreement.docx as a Writer document -> /Users/vuvie/Documents/UofT - Data Analytics BootCamp/github/Efficency_Tools/input/Prenuptial Agreement.pdf using filter : writer_pdf_Export\n",
      "Successfully converted Prenuptial Agreement.docx to PDF\n",
      "Conversion complete!\n"
     ]
    }
   ],
   "source": [
    "import os\n",
    "import subprocess\n",
    "\n",
    "# Folder where your Word documents are stored\n",
    "input_folder = './input'\n",
    "\n",
    "# Loop through all files in the input folder\n",
    "for file_name in os.listdir(input_folder):\n",
    "    if file_name.endswith('.docx') or file_name.endswith('.docx'):  # Check for Word documents\n",
    "        docx_file = os.path.join(input_folder, file_name)\n",
    "        pdf_file = os.path.join(input_folder, file_name.replace('.docx', '.pdf').replace('.doc', '.pdf'))\n",
    "        \n",
    "        # Run the LibreOffice command to convert the file to PDF\n",
    "        try:\n",
    "            subprocess.run(['soffice', '--headless', '--convert-to', 'pdf', docx_file, '--outdir', input_folder], check=True)\n",
    "            print(f'Successfully converted {file_name} to PDF')\n",
    "        except subprocess.CalledProcessError as e:\n",
    "            print(f'Error converting {file_name}: {e}')\n",
    "\n",
    "print(\"Conversion complete!\")"
   ]
  },
  {
   "cell_type": "markdown",
   "id": "135f8778-c093-44e7-af38-6dca45f9952e",
   "metadata": {},
   "source": [
    "# Convert PDF to PNG"
   ]
  },
  {
   "cell_type": "code",
   "execution_count": 2,
   "id": "26518919-01f7-406f-9678-2fa41f258448",
   "metadata": {},
   "outputs": [],
   "source": [
    "from pdf2image import convert_from_path\n",
    "import os"
   ]
  },
  {
   "cell_type": "code",
   "execution_count": 3,
   "id": "ac6c5f71-24cf-4ccc-bdd3-99f917beb981",
   "metadata": {},
   "outputs": [],
   "source": [
    "# Folder paths\n",
    "pdf_input_folder = './input'  # Folder containing PDF files\n",
    "output_folder = './output'  # Folder to save the output PNG files\n",
    "\n",
    "# Create the output folder if it doesn't exist\n",
    "if not os.path.exists(output_folder):\n",
    "    os.makedirs(output_folder)"
   ]
  },
  {
   "cell_type": "code",
   "execution_count": 4,
   "id": "49f5dc5d-05c6-48ba-b6e5-b86bcc7b1bea",
   "metadata": {},
   "outputs": [
    {
     "name": "stdout",
     "output_type": "stream",
     "text": [
      "Converted MSc Digital Media.pdf to PNG images.\n"
     ]
    }
   ],
   "source": [
    "# Loop through all files in the input folder\n",
    "for filename in os.listdir(pdf_input_folder):\n",
    "    if filename.endswith(\".pdf\"):\n",
    "        pdf_file_path = os.path.join(pdf_input_folder, filename)\n",
    "        # Convert PDF to images (each page is an image)\n",
    "        images = convert_from_path(pdf_file_path)\n",
    "        \n",
    "        # Save each page of the PDF as a PNG\n",
    "        for i, image in enumerate(images):\n",
    "            # Create an output path for each page (e.g., file_page_1.png, file_page_2.png, etc.)\n",
    "            image_output_path = os.path.join(output_folder, f'{os.path.splitext(filename)[0]}_page_{i + 1}.png')\n",
    "            # Save without using PIL\n",
    "            image.save(image_output_path)  # pdf2image handles the saving internally without PIL\n",
    "\n",
    "        print(f'Converted {filename} to PNG images.')"
   ]
  },
  {
   "cell_type": "code",
   "execution_count": null,
   "id": "49c6aa88-189d-46e6-8509-9d2c5bf6feb4",
   "metadata": {},
   "outputs": [],
   "source": []
  },
  {
   "cell_type": "code",
   "execution_count": null,
   "id": "7b71bdf7-6846-459e-8986-cb4e696acfc8",
   "metadata": {},
   "outputs": [],
   "source": []
  }
 ],
 "metadata": {
  "kernelspec": {
   "display_name": "PythonData_python4data",
   "language": "python",
   "name": "python4data"
  },
  "language_info": {
   "codemirror_mode": {
    "name": "ipython",
    "version": 3
   },
   "file_extension": ".py",
   "mimetype": "text/x-python",
   "name": "python",
   "nbconvert_exporter": "python",
   "pygments_lexer": "ipython3",
   "version": "3.11.5"
  }
 },
 "nbformat": 4,
 "nbformat_minor": 5
}
