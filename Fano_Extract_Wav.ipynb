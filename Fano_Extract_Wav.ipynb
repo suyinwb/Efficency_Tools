{
 "cells": [
  {
   "cell_type": "code",
   "execution_count": 1,
   "id": "a18b1702-ee99-4fbf-ba7b-37f6858330cb",
   "metadata": {},
   "outputs": [],
   "source": [
    "from pathlib import Path\n",
    "\n",
    "import ffmpeg\n",
    "\n",
    "import os\n",
    "import glob\n",
    "import subprocess"
   ]
  },
  {
   "cell_type": "markdown",
   "id": "fb15db4c-cf71-4968-8037-b77296217daa",
   "metadata": {},
   "source": [
    "# Convert MOV to MP4"
   ]
  },
  {
   "cell_type": "code",
   "execution_count": 2,
   "id": "c95b23c7-b2a5-4e4f-830c-36daa51aa1b0",
   "metadata": {},
   "outputs": [],
   "source": [
    "# # Test with one file \n",
    "# mov_input_path = 'input/Penelope.mov'\n",
    "# mp4_output_path = 'input/Penelope.MP4'\n",
    "\n",
    "# import subprocess\n",
    "\n",
    "# # Run the FFmpeg command\n",
    "# subprocess.run(['ffmpeg', '-i', mov_input_path, '-q:v', '0', mp4_output_path])"
   ]
  },
  {
   "cell_type": "code",
   "execution_count": 3,
   "id": "70bbadac-ca64-47f0-a90e-70489374a728",
   "metadata": {},
   "outputs": [],
   "source": [
    "# Define the directory to search\n",
    "search_dir = 'input/'\n",
    "\n",
    "# Recursively find all .mov files\n",
    "mov_files = glob.glob(os.path.join(search_dir, '**', '*.mov'), recursive=True)\n",
    "\n",
    "# Convert each .mov file to .mp4\n",
    "for mov_file in mov_files:\n",
    "    mp4_file = os.path.splitext(mov_file)[0] + '.mp4'\n",
    "    subprocess.run(['ffmpeg', '-i', mov_file, '-q:v', '0', mp4_file])\n",
    "    print(f'Converted {mov_file} to {mp4_file}')"
   ]
  },
  {
   "cell_type": "code",
   "execution_count": null,
   "id": "46a69ff1-3822-4644-b3b7-76ed1490db30",
   "metadata": {},
   "outputs": [],
   "source": []
  },
  {
   "cell_type": "markdown",
   "id": "a5c92373-b843-42dd-8967-8ed7b216a26d",
   "metadata": {},
   "source": [
    "# Extract ONLY audio as wav from the video"
   ]
  },
  {
   "cell_type": "code",
   "execution_count": 4,
   "id": "8089fc71-0374-4bf4-8ead-1fa2d0829ea7",
   "metadata": {},
   "outputs": [
    {
     "name": "stdout",
     "output_type": "stream",
     "text": [
      "Converted input/Singapore script-20241210_075823-Meeting Recording.mp4 to WAV: output/Singapore script-20241210_075823-Meeting Recording.wav\n"
     ]
    }
   ],
   "source": [
    "import os\n",
    "import ffmpeg\n",
    "\n",
    "def find_mp4_files(directory):\n",
    "    \"\"\"Recursively finds all .mp4 files in a given directory.\"\"\"\n",
    "    mp4_files = []\n",
    "    for root, _, files in os.walk(directory):\n",
    "        for file in files:\n",
    "            if file.lower().endswith(\".mp4\"):\n",
    "                mp4_files.append(os.path.join(root, file))\n",
    "    return mp4_files\n",
    "\n",
    "def convert_mp4_to_wav(input_file, output_directory):\n",
    "    \"\"\"Converts an .mp4 file to a .wav file, extracting only the audio.\"\"\"\n",
    "    relative_path = os.path.relpath(input_file, input_dir)\n",
    "    output_file = os.path.join(output_directory, relative_path)\n",
    "    output_file = os.path.splitext(output_file)[0] + '.wav'\n",
    "\n",
    "    try:\n",
    "        os.makedirs(os.path.dirname(output_file), exist_ok=True)\n",
    "        ffmpeg.input(input_file).output(output_file, acodec='pcm_s16le', ar='44100', ac='1').run()\n",
    "        print(f\"Converted {input_file} to WAV: {output_file}\")\n",
    "    except Exception as e:\n",
    "        print(f\"Error processing {input_file}: {str(e)}\")\n",
    "\n",
    "# Define input and output directories\n",
    "input_dir = 'input/'\n",
    "output_dir = 'output'\n",
    "\n",
    "# Find all .mp4 files\n",
    "mp4_files = find_mp4_files(input_dir)\n",
    "\n",
    "# Convert .mp4 files to WAV files\n",
    "for mp4_file in mp4_files:\n",
    "    convert_mp4_to_wav(mp4_file, output_dir)"
   ]
  },
  {
   "cell_type": "code",
   "execution_count": null,
   "id": "154098d4-45d3-4cdb-9d54-852af0c15bc2",
   "metadata": {},
   "outputs": [],
   "source": []
  },
  {
   "cell_type": "code",
   "execution_count": null,
   "id": "dca1d7b9-67fc-4b24-99d4-c756ba0846a9",
   "metadata": {},
   "outputs": [],
   "source": []
  },
  {
   "cell_type": "code",
   "execution_count": null,
   "id": "30a5712a-bb28-495c-932f-490a48425781",
   "metadata": {},
   "outputs": [],
   "source": []
  },
  {
   "cell_type": "code",
   "execution_count": null,
   "id": "9b9fa244-aad6-4943-9130-b7604db9faae",
   "metadata": {},
   "outputs": [],
   "source": []
  },
  {
   "cell_type": "code",
   "execution_count": null,
   "id": "bbd9e980-5fa2-420c-9dd0-57ef7d74eb7e",
   "metadata": {},
   "outputs": [],
   "source": []
  },
  {
   "cell_type": "code",
   "execution_count": null,
   "id": "0bcff7f0-fea5-402b-8401-fc56e47c0183",
   "metadata": {},
   "outputs": [],
   "source": []
  },
  {
   "cell_type": "code",
   "execution_count": null,
   "id": "3ac3c45a-c3da-4843-9fa5-eeeb75a8bcdc",
   "metadata": {},
   "outputs": [],
   "source": []
  }
 ],
 "metadata": {
  "kernelspec": {
   "display_name": "PythonData",
   "language": "python",
   "name": "pythondata"
  },
  "language_info": {
   "codemirror_mode": {
    "name": "ipython",
    "version": 3
   },
   "file_extension": ".py",
   "mimetype": "text/x-python",
   "name": "python",
   "nbconvert_exporter": "python",
   "pygments_lexer": "ipython3",
   "version": "3.6.10"
  }
 },
 "nbformat": 4,
 "nbformat_minor": 5
}
