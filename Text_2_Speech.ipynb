{
 "cells": [
  {
   "cell_type": "code",
   "execution_count": 7,
   "id": "a18b1702-ee99-4fbf-ba7b-37f6858330cb",
   "metadata": {},
   "outputs": [],
   "source": [
    "import os\n",
    "from gtts import gTTS\n",
    "from pydub import AudioSegment\n",
    "from pydub.playback import play\n",
    "\n",
    "import pyttsx3"
   ]
  },
  {
   "cell_type": "markdown",
   "id": "fb15db4c-cf71-4968-8037-b77296217daa",
   "metadata": {},
   "source": [
    "# Text_2_Speech"
   ]
  },
  {
   "cell_type": "markdown",
   "id": "b7477bd4-af9c-4881-bd46-e02729967267",
   "metadata": {},
   "source": [
    "## Online script"
   ]
  },
  {
   "cell_type": "code",
   "execution_count": null,
   "id": "8897afad-9720-4563-9d89-7d504105261a",
   "metadata": {},
   "outputs": [],
   "source": [
    "#find the voice accents here: https://gtts.readthedocs.io/en/latest/module.html#localized-accents"
   ]
  },
  {
   "cell_type": "code",
   "execution_count": 8,
   "id": "7f239494-a57b-4bd0-a863-6efcd8a5fab1",
   "metadata": {},
   "outputs": [
    {
     "name": "stdout",
     "output_type": "stream",
     "text": [
      "Saved: audio_output/1.mp3\n",
      "Saved: audio_output/2.mp3\n",
      "Saved: audio_output/3.mp3\n",
      "Saved: audio_output/4.mp3\n",
      "Saved: audio_output/5.mp3\n",
      "Saved: audio_output/6.mp3\n",
      "Saved: audio_output/7.mp3\n",
      "Saved: audio_output/8.mp3\n",
      "Saved: audio_output/9.mp3\n"
     ]
    }
   ],
   "source": [
    "# Output directory\n",
    "output_dir = \"audio_output\"\n",
    "os.makedirs(output_dir, exist_ok=True)\n",
    "\n",
    "# Define the conversation\n",
    "conversation = [\n",
    "    (\"Caller\", \"Hello, I need help. There's a suspicious man loitering near the bus stop at Orchard Road. He seems agitated and is carrying a large bag.\"),\n",
    "    (\"Operator\", \"Thank you for calling. Can you confirm your location again, please?\"),\n",
    "    (\"Caller\", \"Yes, it's near the Orchard Road MRT station, just outside the bus stop.\"),\n",
    "    (\"Operator\", \"Understood. Can you describe the man?\"),\n",
    "    (\"Caller\", \"He’s wearing a black jacket, jeans, and a baseball cap. He looks to be in his 40s and is walking back and forth.\"),\n",
    "    (\"Operator\", \"Thank you. Is he interacting with anyone or behaving aggressively?\"),\n",
    "    (\"Caller\", \"No, but he keeps looking at his bag and talking to himself. It's making people uncomfortable. Might be carrying a weapon.\"),\n",
    "    (\"Operator\", \"Got it. We’ll dispatch a patrol team immediately. Please stay at a safe distance. If his behavior changes, call us back with updates.\"),\n",
    "    (\"Caller\", \"Okay, thank you.\"),\n",
    "]\n",
    "\n",
    "# Function to save lines with different accents as numbered files\n",
    "def save_lines_with_accents(conversation):\n",
    "    for index, (speaker, text) in enumerate(conversation, start=1):\n",
    "        # Determine TLD based on the speaker\n",
    "        tld = 'co.in' if speaker == \"Caller\" else 'com.ng'\n",
    "\n",
    "        # Create gTTS object for the line\n",
    "        speech = gTTS(text=text, lang='en', tld=tld)\n",
    "\n",
    "        # Save to a file with a sequential name\n",
    "        filename = os.path.join(output_dir, f\"{index}.mp3\")\n",
    "        speech.save(filename)\n",
    "        print(f\"Saved: {filename}\")\n",
    "\n",
    "# Generate speech files for all lines in the conversation\n",
    "save_lines_with_accents(conversation)\n"
   ]
  },
  {
   "cell_type": "code",
   "execution_count": 9,
   "id": "ed570d56-730c-4e8e-a34d-7f463f446c18",
   "metadata": {},
   "outputs": [
    {
     "name": "stdout",
     "output_type": "stream",
     "text": [
      "All files merged into 'audio_output/merged_output.mp3'\n"
     ]
    }
   ],
   "source": [
    "# Directory containing the mp3 files\n",
    "input_dir = \"audio_output\"  # Change this to your folder containing the mp3 files\n",
    "output_file = \"merged_output.mp3\"\n",
    "\n",
    "# List all the mp3 files in the directory\n",
    "mp3_files = [f for f in os.listdir(input_dir) if f.endswith('.mp3')]\n",
    "\n",
    "# Sort files by filename (assuming they are numbered 1, 2, 3, etc.)\n",
    "mp3_files.sort(key=lambda x: int(x.split('.')[0]))\n",
    "\n",
    "# Initialize an empty AudioSegment object to store the merged audio\n",
    "merged_audio = AudioSegment.empty()\n",
    "\n",
    "# Loop through the mp3 files and append them\n",
    "for file in mp3_files:\n",
    "    file_path = os.path.join(input_dir, file)\n",
    "    audio = AudioSegment.from_mp3(file_path)\n",
    "    merged_audio += audio\n",
    "\n",
    "# Export the merged audio to an output file\n",
    "output_path = os.path.join(input_dir, output_file)\n",
    "merged_audio.export(output_path, format=\"mp3\")\n",
    "\n",
    "print(f\"All files merged into '{output_path}'\")"
   ]
  },
  {
   "cell_type": "code",
   "execution_count": null,
   "id": "afcafece-3f9d-4cff-9525-7cb39f646c76",
   "metadata": {},
   "outputs": [],
   "source": []
  },
  {
   "cell_type": "markdown",
   "id": "f897d1d7-3a98-4f94-bbef-4e2a7b35fd07",
   "metadata": {},
   "source": [
    "## Offline script"
   ]
  },
  {
   "cell_type": "code",
   "execution_count": 11,
   "id": "dfc483b5-50ce-4ac4-9d74-19a69afedb4c",
   "metadata": {},
   "outputs": [
    {
     "name": "stdout",
     "output_type": "stream",
     "text": [
      "Saved: audio_output/1.mp3\n",
      "Saved: audio_output/2.mp3\n",
      "Saved: audio_output/3.mp3\n",
      "Saved: audio_output/4.mp3\n",
      "Saved: audio_output/5.mp3\n",
      "Saved: audio_output/6.mp3\n",
      "Saved: audio_output/7.mp3\n",
      "Saved: audio_output/8.mp3\n",
      "Saved: audio_output/9.mp3\n",
      "Saved: audio_output/10.mp3\n",
      "Saved: audio_output/11.mp3\n",
      "Saved: audio_output/12.mp3\n",
      "Saved: audio_output/13.mp3\n",
      "Saved: audio_output/14.mp3\n",
      "Saved: audio_output/15.mp3\n",
      "Saved: audio_output/16.mp3\n",
      "Saved: audio_output/17.mp3\n",
      "Saved: audio_output/18.mp3\n",
      "Saved: audio_output/19.mp3\n",
      "Saved: audio_output/20.mp3\n",
      "Saved: audio_output/21.mp3\n",
      "Saved: audio_output/22.mp3\n",
      "Saved: audio_output/23.mp3\n"
     ]
    }
   ],
   "source": [
    "# Output directory\n",
    "output_dir = \"audio_output\"\n",
    "os.makedirs(output_dir, exist_ok=True)\n",
    "\n",
    "# Define the conversation\n",
    "conversation = [\n",
    "    (\"Caller\", \"Hello, I need help!\"),\n",
    "    (\"Operator\", \"Hello, 999. What is your emergency?\"),\n",
    "    (\"Caller\", \"I am scared, please help.\"),\n",
    "    (\"Operator\", \"May I have your name, please?\"),\n",
    "    (\"Caller\", \"My name is Eric.\"),\n",
    "    (\"Operator\", \"Hi, Eric. How may I help you?\"),\n",
    "    (\"Caller\", \"Someone has fainted near me.\"),\n",
    "    (\"Operator\", \"What is your relationship to this person?\"),\n",
    "    (\"Caller\", \"I don’t know him!\"),\n",
    "    (\"Operator\", \"No problem, Eric. What is your current address?\"),\n",
    "    (\"Caller\", \"I do not know!\"),\n",
    "    (\"Operator\", \"Eric, please describe any landmark you can see.\"),\n",
    "    (\"Caller\", \"I am near the bus stop at Orchard road.\"),\n",
    "    (\"Operator\", \"Can you confirm your location again?\"),\n",
    "    (\"Caller\", \"Yes, it's near the Orchard Road MRT station, just outside the bus stop.\"),\n",
    "    (\"Operator\", \"Noted. Can you now describe the person who has fainted?\"),\n",
    "    (\"Caller\", \"He is wearing a black jacket, jeans, and a baseball cap.\"),\n",
    "    (\"Operator\", \"How old is the person?\"),\n",
    "    (\"Caller\", \"He looks to be in his 40s.\"),\n",
    "    (\"Operator\", \"Is he breathing?\"),\n",
    "    (\"Caller\", \"Seems to be.\"),\n",
    "    (\"Operator\", \"OK. We’ll dispatch an ambulance and a police dispatch. It is 3pm now and they will arrive at 3:15pm. Please stay near to him and continue monitoring.\"),\n",
    "    (\"Caller\", \"OK, I will!\")]\n",
    "\n",
    "# Function to save lines with different accents as numbered files\n",
    "def save_lines_with_accents(conversation):\n",
    "    for index, (speaker, text) in enumerate(conversation, start=1):\n",
    "        # Determine TLD based on the speaker\n",
    "        tld = 'co.in' if speaker == \"Caller\" else 'com.ng'\n",
    "\n",
    "        # Create gTTS object for the line\n",
    "        speech = gTTS(text=text, lang='en', tld=tld)\n",
    "\n",
    "        # Save to a file with a sequential name\n",
    "        filename = os.path.join(output_dir, f\"{index}.mp3\")\n",
    "        speech.save(filename)\n",
    "        print(f\"Saved: {filename}\")\n",
    "\n",
    "# Generate speech files for all lines in the conversation\n",
    "save_lines_with_accents(conversation)\n"
   ]
  },
  {
   "cell_type": "code",
   "execution_count": 12,
   "id": "10b470dc-fdff-4240-8552-9a37655d4b20",
   "metadata": {},
   "outputs": [
    {
     "name": "stdout",
     "output_type": "stream",
     "text": [
      "All files merged into 'audio_output/merged_output.mp3'\n"
     ]
    }
   ],
   "source": [
    "# Directory containing the mp3 files\n",
    "input_dir = \"audio_output\"  # Change this to your folder containing the mp3 files\n",
    "output_file = \"merged_output.mp3\"\n",
    "\n",
    "# List all the mp3 files in the directory\n",
    "mp3_files = [f for f in os.listdir(input_dir) if f.endswith('.mp3')]\n",
    "\n",
    "# Sort files by filename (assuming they are numbered 1, 2, 3, etc.)\n",
    "mp3_files.sort(key=lambda x: int(x.split('.')[0]))\n",
    "\n",
    "# Initialize an empty AudioSegment object to store the merged audio\n",
    "merged_audio = AudioSegment.empty()\n",
    "\n",
    "# Loop through the mp3 files and append them\n",
    "for file in mp3_files:\n",
    "    file_path = os.path.join(input_dir, file)\n",
    "    audio = AudioSegment.from_mp3(file_path)\n",
    "    merged_audio += audio\n",
    "\n",
    "# Export the merged audio to an output file\n",
    "output_path = os.path.join(input_dir, output_file)\n",
    "merged_audio.export(output_path, format=\"mp3\")\n",
    "\n",
    "print(f\"All files merged into '{output_path}'\")"
   ]
  },
  {
   "cell_type": "code",
   "execution_count": null,
   "id": "e449d013-20cd-49f9-9c80-8c3dc405f11d",
   "metadata": {},
   "outputs": [],
   "source": []
  },
  {
   "cell_type": "code",
   "execution_count": null,
   "id": "ce044257-72fc-45a7-adc3-4875f65f6588",
   "metadata": {},
   "outputs": [],
   "source": []
  }
 ],
 "metadata": {
  "kernelspec": {
   "display_name": "PythonData_python4data",
   "language": "python",
   "name": "python4data"
  },
  "language_info": {
   "codemirror_mode": {
    "name": "ipython",
    "version": 3
   },
   "file_extension": ".py",
   "mimetype": "text/x-python",
   "name": "python",
   "nbconvert_exporter": "python",
   "pygments_lexer": "ipython3",
   "version": "3.11.5"
  }
 },
 "nbformat": 4,
 "nbformat_minor": 5
}
